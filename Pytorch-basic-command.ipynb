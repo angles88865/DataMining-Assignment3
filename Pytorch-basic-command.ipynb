{
 "cells": [
  {
   "cell_type": "code",
   "execution_count": 1,
   "id": "51294875",
   "metadata": {
    "ExecuteTime": {
     "end_time": "2024-04-17T01:04:41.012596Z",
     "start_time": "2024-04-17T01:04:38.496747400Z"
    }
   },
   "outputs": [
    {
     "name": "stdout",
     "output_type": "stream",
     "text": [
      "2.2.2\n",
      "2.6.0\n"
     ]
    }
   ],
   "source": [
    "import torch\n",
    "print(torch.__version__)\n",
    "import tensorboard\n",
    "print(tensorboard.__version__)\n",
    "# import torch.nn\n",
    "from torch import nn\n",
    "from torch.utils.tensorboard import SummaryWriter\n",
    "from ipywidgets import IntProgress\n",
    "import sys"
   ]
  },
  {
   "cell_type": "code",
   "outputs": [
    {
     "name": "stdout",
     "output_type": "stream",
     "text": [
      "False\n",
      "C:\\ProgramData\\anaconda3\\python.exe\n"
     ]
    },
    {
     "ename": "RuntimeError",
     "evalue": "Invalid device string: 'C:\\Python312\\python.exe'",
     "output_type": "error",
     "traceback": [
      "\u001B[1;31m---------------------------------------------------------------------------\u001B[0m",
      "\u001B[1;31mRuntimeError\u001B[0m                              Traceback (most recent call last)",
      "Cell \u001B[1;32mIn[6], line 3\u001B[0m\n\u001B[0;32m      1\u001B[0m \u001B[38;5;28mprint\u001B[39m( torch\u001B[38;5;241m.\u001B[39mcuda\u001B[38;5;241m.\u001B[39mis_available())\n\u001B[0;32m      2\u001B[0m \u001B[38;5;28mprint\u001B[39m(sys\u001B[38;5;241m.\u001B[39mexecutable)\n\u001B[1;32m----> 3\u001B[0m device \u001B[38;5;241m=\u001B[39m torch\u001B[38;5;241m.\u001B[39mdevice(\u001B[38;5;124m'\u001B[39m\u001B[38;5;124mC:\u001B[39m\u001B[38;5;124m\\\u001B[39m\u001B[38;5;124mPython312\u001B[39m\u001B[38;5;124m\\\u001B[39m\u001B[38;5;124mpython.exe\u001B[39m\u001B[38;5;124m'\u001B[39m)\n\u001B[0;32m      4\u001B[0m \u001B[38;5;28mprint\u001B[39m(\u001B[38;5;124m\"\u001B[39m\u001B[38;5;124mdevice: \u001B[39m\u001B[38;5;124m\"\u001B[39m, device)\n",
      "\u001B[1;31mRuntimeError\u001B[0m: Invalid device string: 'C:\\Python312\\python.exe'"
     ]
    }
   ],
   "source": [
    "print( torch.cuda.is_available())\n",
    "print(sys.executable)\n",
    "device = torch.device('cuda:0' if torch.cuda.is_available() else 'cpu')\n",
    "print(\"device: \", device)"
   ],
   "metadata": {
    "collapsed": false,
    "ExecuteTime": {
     "end_time": "2024-04-17T01:07:51.193337100Z",
     "start_time": "2024-04-17T01:07:50.696548800Z"
    }
   },
   "id": "2e9d3c3e28b9f922",
   "execution_count": 6
  },
  {
   "cell_type": "code",
   "execution_count": 30,
   "id": "2b51546a",
   "metadata": {
    "ExecuteTime": {
     "end_time": "2024-04-15T02:10:24.749941100Z",
     "start_time": "2024-04-15T02:10:24.650232200Z"
    }
   },
   "outputs": [],
   "source": [
    "# !jupyter nbextension enable --py widgetsnbextension"
   ]
  },
  {
   "cell_type": "code",
   "execution_count": 31,
   "id": "66a4ac69",
   "metadata": {
    "ExecuteTime": {
     "end_time": "2024-04-15T02:10:24.849226100Z",
     "start_time": "2024-04-15T02:10:24.657640300Z"
    }
   },
   "outputs": [
    {
     "name": "stdout",
     "output_type": "stream",
     "text": [
      "zeros: tensor([[0., 0., 0.],\n",
      "        [0., 0., 0.]])\n",
      "ones: tensor([[1., 1., 1.],\n",
      "        [1., 1., 1.]])\n"
     ]
    }
   ],
   "source": [
    "# zeros\n",
    "X = torch.zeros(2,3)\n",
    "print(\"zeros:\", X)\n",
    "X = torch.ones(2,3)\n",
    "print('ones:',X)"
   ]
  },
  {
   "cell_type": "code",
   "execution_count": 32,
   "id": "bfc47ebb",
   "metadata": {
    "ExecuteTime": {
     "end_time": "2024-04-15T02:10:24.850363Z",
     "start_time": "2024-04-15T02:10:24.673004900Z"
    }
   },
   "outputs": [
    {
     "data": {
      "text/plain": "tensor([[1., 1.],\n        [1., 1.],\n        [1., 1.]])"
     },
     "execution_count": 32,
     "metadata": {},
     "output_type": "execute_result"
    }
   ],
   "source": [
    "# change the shape X 2*3\n",
    "X.view(3,2)"
   ]
  },
  {
   "cell_type": "code",
   "execution_count": 33,
   "id": "2871c5b8",
   "metadata": {
    "ExecuteTime": {
     "end_time": "2024-04-15T02:10:24.866449700Z",
     "start_time": "2024-04-15T02:10:24.687416Z"
    }
   },
   "outputs": [
    {
     "data": {
      "text/plain": "array([[1., 1., 1.],\n       [1., 1., 1.]], dtype=float32)"
     },
     "execution_count": 33,
     "metadata": {},
     "output_type": "execute_result"
    }
   ],
   "source": [
    "## move tensor to data cpu or arracy, save to txt file\n",
    "X.data.cpu()[0][0].item()  #[1]\n",
    "X.data.cpu().numpy() #[[1,2],[2,3]],[1,2,3,4]"
   ]
  },
  {
   "cell_type": "code",
   "execution_count": 34,
   "id": "6b4b7a60",
   "metadata": {
    "ExecuteTime": {
     "end_time": "2024-04-15T02:10:24.868888700Z",
     "start_time": "2024-04-15T02:10:24.711996200Z"
    }
   },
   "outputs": [
    {
     "name": "stdout",
     "output_type": "stream",
     "text": [
      "X: tensor([0.8833])\n"
     ]
    },
    {
     "data": {
      "text/plain": "0.883281409740448"
     },
     "execution_count": 34,
     "metadata": {},
     "output_type": "execute_result"
    }
   ],
   "source": [
    "X = torch.rand(1)\n",
    "print(\"X:\",X)\n",
    "X.data.cpu().item()\n",
    "# X.item()\n"
   ]
  },
  {
   "cell_type": "code",
   "execution_count": 35,
   "id": "f2e28c24",
   "metadata": {
    "ExecuteTime": {
     "end_time": "2024-04-15T02:10:24.870106500Z",
     "start_time": "2024-04-15T02:10:24.724304300Z"
    }
   },
   "outputs": [
    {
     "name": "stdout",
     "output_type": "stream",
     "text": [
      "X: tensor([[0.4646, 0.6415, 0.5619],\n",
      "        [0.6954, 0.8453, 0.8024]])\n"
     ]
    },
    {
     "data": {
      "text/plain": "tensor([0.4646, 0.6415, 0.5619, 0.6954, 0.8453, 0.8024])"
     },
     "execution_count": 35,
     "metadata": {},
     "output_type": "execute_result"
    }
   ],
   "source": [
    "# flatten tensor\n",
    "# torch.flatten(X,start_dim=0)\n",
    "X = torch.rand(2,3)\n",
    "print(\"X:\",X)\n",
    "torch.flatten(X,start_dim=0)\n"
   ]
  },
  {
   "cell_type": "code",
   "execution_count": 36,
   "id": "d5877de3",
   "metadata": {
    "ExecuteTime": {
     "end_time": "2024-04-15T02:10:24.884534500Z",
     "start_time": "2024-04-15T02:10:24.734360500Z"
    }
   },
   "outputs": [
    {
     "data": {
      "text/plain": "torch.Size([2, 3])"
     },
     "execution_count": 36,
     "metadata": {},
     "output_type": "execute_result"
    }
   ],
   "source": [
    "## tensor size\n",
    "X.size()"
   ]
  },
  {
   "cell_type": "code",
   "execution_count": 37,
   "id": "190bee34",
   "metadata": {
    "ExecuteTime": {
     "end_time": "2024-04-15T02:10:24.896932600Z",
     "start_time": "2024-04-15T02:10:24.755965300Z"
    }
   },
   "outputs": [],
   "source": [
    "## data loader\n",
    "import torchvision.transforms as transforms\n",
    "from torch.utils.data import DataLoader\n",
    "import torchvision\n",
    "import h5py\n",
    "rotation =10\n",
    "\n",
    "def _load_data(DATA_PATH, batch_size):\n",
    "    '''Data loader'''\n",
    "    print(\"data_path: \", DATA_PATH)\n",
    "    train_trans = transforms.Compose([transforms.RandomRotation(rotation),transforms.RandomHorizontalFlip(),\\\n",
    "                                      transforms.ToTensor(), transforms.Normalize((0.5), (0.5))])\n",
    "    \n",
    "    train_dataset = torchvision.datasets.MNIST(root=DATA_PATH, download=True,train=True, transform=train_trans)\n",
    "    train_loader = DataLoader(dataset=train_dataset, batch_size=batch_size, shuffle=True,num_workers=8)\n",
    "    ## for testing\n",
    "    test_trans = transforms.Compose([transforms.ToTensor(), transforms.Normalize((0.5), (0.5))])\n",
    "    test_dataset = torchvision.datasets.MNIST(root=DATA_PATH, download=True, train=False, transform=test_trans)\n",
    "    test_loader = DataLoader(dataset=test_dataset, batch_size=batch_size, shuffle=False, num_workers=8)\n",
    "    return train_loader, test_loader"
   ]
  },
  {
   "cell_type": "code",
   "execution_count": 38,
   "id": "f1c7012b",
   "metadata": {
    "ExecuteTime": {
     "end_time": "2024-04-15T02:10:32.586289200Z",
     "start_time": "2024-04-15T02:10:24.765053600Z"
    }
   },
   "outputs": [
    {
     "name": "stdout",
     "output_type": "stream",
     "text": [
      "data_path:  ./data/\n",
      "tensor([6, 9, 3, 7, 1, 7, 8, 8, 2, 5, 5, 6, 3, 0, 1, 4, 9, 0, 8, 6, 1, 5, 9, 2,\n",
      "        3, 8, 9, 2, 1, 9, 6, 9, 0, 0, 6, 3, 7, 8, 7, 3, 9, 2, 9, 0, 7, 2, 8, 5,\n",
      "        0, 1, 2, 7, 7, 0, 1, 8, 6, 6, 1, 1, 8, 2, 6, 5, 1, 1, 7, 1, 8, 8, 8, 1,\n",
      "        3, 5, 8, 3, 7, 3, 5, 1, 7, 9, 0, 6, 1, 5, 7, 0, 9, 6, 8, 6, 0, 0, 7, 9,\n",
      "        1, 9, 5, 4])\n"
     ]
    }
   ],
   "source": [
    "DATA_PATH = \"./data/\"\n",
    "batch_size = 100\n",
    "train_loader, test_loader = _load_data(DATA_PATH, batch_size)\n",
    "for data,label in train_loader:\n",
    "    print(label)\n",
    "    break\n",
    "    "
   ]
  },
  {
   "cell_type": "code",
   "execution_count": 39,
   "id": "2de19954",
   "metadata": {
    "ExecuteTime": {
     "end_time": "2024-04-15T02:10:32.597588900Z",
     "start_time": "2024-04-15T02:10:32.590636Z"
    }
   },
   "outputs": [],
   "source": [
    "## Method 1\n",
    "class MLP(nn.Module):\n",
    "    def __init__(self):\n",
    "        super().__init__()\n",
    "        self.FC1 = nn.Linear(28,30) ## fully connected layer\n",
    "        act = nn.ReLU()  ## activation fun\n",
    "        drop = nn.Dropout(p=0.2)  ## dropout\n",
    "        self.FC2 = nn.Linear(30,10) ## fully connected layer\n",
    "#         act = nn.ReLU()  ## activation fun\n",
    "    ## feed data to the model\n",
    "    def forward(self,x):\n",
    "        h = self.FC1(x)\n",
    "        h = self.act(h)\n",
    "        h = self.drop(h)\n",
    "        y_out = self.FC2(h)"
   ]
  },
  {
   "cell_type": "code",
   "execution_count": 40,
   "id": "0bafa88e",
   "metadata": {
    "ExecuteTime": {
     "end_time": "2024-04-15T02:10:32.608916800Z",
     "start_time": "2024-04-15T02:10:32.602928200Z"
    }
   },
   "outputs": [],
   "source": [
    "## Method 2\n",
    "class MLP(nn.Module):\n",
    "    def __init__(self):\n",
    "        super().__init__()\n",
    "        self.layers = nn.Sequential(nn.Linear(28*28,50),\n",
    "                                    nn.ReLU(),\n",
    "                                    nn.Dropout(0.2),\n",
    "                                    nn.Linear(50,20),\n",
    "                                    nn.ReLU(),\n",
    "                                    nn.Dropout(0.2),\n",
    "                                    nn.Linear(20,10))\n",
    "    ## feed data into the model\n",
    "    def forward(self,x):\n",
    "        y_out = self.layers(x)"
   ]
  },
  {
   "cell_type": "code",
   "execution_count": 41,
   "id": "8d38a18f",
   "metadata": {
    "ExecuteTime": {
     "end_time": "2024-04-15T02:10:32.651569700Z",
     "start_time": "2024-04-15T02:10:32.606515100Z"
    }
   },
   "outputs": [],
   "source": [
    "## tensorboard\n",
    "writer = SummaryWriter()\n",
    "loss1 = 10\n",
    "n_iter1 = 1\n",
    "\n",
    "loss2 = 5\n",
    "n_iter2 = 2\n",
    "\n",
    "# loss3 = 1\n",
    "# n_iter3 = 3\n",
    "\n",
    "writer.add_scalar('Loss/train', loss1, n_iter1)\n",
    "writer.add_scalar('Loss/train', loss2, n_iter2)\n",
    "# writer.add_scalar('Loss/train', loss3, n_iter3)"
   ]
  },
  {
   "cell_type": "code",
   "execution_count": 42,
   "id": "98b7f50c",
   "metadata": {
    "ExecuteTime": {
     "end_time": "2024-04-15T02:10:32.662011600Z",
     "start_time": "2024-04-15T02:10:32.655231400Z"
    }
   },
   "outputs": [],
   "source": [
    "## find the training curve locally\n",
    "# http://localhost:6006/"
   ]
  }
 ],
 "metadata": {
  "kernelspec": {
   "display_name": "Python 3 (ipykernel)",
   "language": "python",
   "name": "python3"
  },
  "language_info": {
   "codemirror_mode": {
    "name": "ipython",
    "version": 3
   },
   "file_extension": ".py",
   "mimetype": "text/x-python",
   "name": "python",
   "nbconvert_exporter": "python",
   "pygments_lexer": "ipython3",
   "version": "3.9.7"
  }
 },
 "nbformat": 4,
 "nbformat_minor": 5
}
